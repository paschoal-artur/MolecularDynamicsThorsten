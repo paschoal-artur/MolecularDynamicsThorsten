{
 "cells": [
  {
   "cell_type": "code",
   "execution_count": 16,
   "metadata": {},
   "outputs": [],
   "source": [
    "import numpy as np\n",
    "import matplotlib.pyplot as plt"
   ]
  },
  {
   "cell_type": "code",
   "execution_count": 17,
   "metadata": {},
   "outputs": [],
   "source": [
    "def inicializar_particulas(N):\n",
    "    particulas = []\n",
    "    for _ in range(N):\n",
    "        posicao = np.random.rand(2) \n",
    "        velocidade = np.random.rand(2)        \n",
    "        particula = {\"posicao\": posicao, \"velocidade\": velocidade, \"forca\": np.zeros(2)} #! inicializa uma representação de uma partícula com suas propriedades básicas\n",
    "        particulas.append(particula)\n",
    "    return particulas"
   ]
  },
  {
   "cell_type": "code",
   "execution_count": 18,
   "metadata": {},
   "outputs": [],
   "source": [
    "def prever_posicoes(particulas, dt):\n",
    "    for particula in particulas:\n",
    "        posicao = np.array(particula[\"posicao\"])\n",
    "        velocidade = np.array(particula[\"velocidade\"])\n",
    "        #Atualiza a posição\n",
    "        nova_posicao = posicao + velocidade * dt\n",
    "        particula[\"posicao\"] = nova_posicao.tolist()"
   ]
  },
  {
   "cell_type": "code",
   "execution_count": 19,
   "metadata": {},
   "outputs": [],
   "source": [
    "#calcular_forcas(particulas, epsilon=1.0, sigma=1.0):\n",
    "    #n = len(particulas)\n",
    "    #for i in range(n):\n",
    "        #for j in range(i + 1, n):\n",
    "            # Calcular a distância entre as partículas i e j\n",
    "            #delta_pos = particulas[i][\"posicao\"] - particulas[j][\"posicao\"]\n",
    "            #r = np.linalg.norm(delta_pos)\n",
    "            \n",
    "            # Evitar divisão por zero\n",
    "            #if r == 0:\n",
    "                #continue\n",
    "            \n",
    "            # Calcular a força usando o potencial de Lennard-Jones\n",
    "            #F = 48 * epsilon * (np.power(sigma / r, 12) - 0.5 * np.power(sigma / r, 6)) / r**2\n",
    "            \n",
    "            # Direção da força\n",
    "            #F_dir = delta_pos / r\n",
    "            \n",
    "            # Atualizar as forças nas partículas i e j\n",
    "            #particulas[i][\"forca\"] += F * F_dir\n",
    "            #particulas[j][\"forca\"] -= F * F_dir  # Terceira lei de Newton"
   ]
  },
  {
   "cell_type": "code",
   "execution_count": 20,
   "metadata": {},
   "outputs": [],
   "source": [
    "def corrigir_velocidades(particulas, dt):\n",
    "    for particula in particulas:\n",
    "        particula[\"velocidade\"] += particula[\"forca\"] * dt "
   ]
  },
  {
   "cell_type": "code",
   "execution_count": 21,
   "metadata": {},
   "outputs": [],
   "source": [
    "def aplicar_condicoes_contorno(particulas, limites):\n",
    "    for particula in particulas:\n",
    "        particula[\"posicao\"] = np.clip(particula[\"posicao\"], limites[0], limites[1])"
   ]
  },
  {
   "cell_type": "code",
   "execution_count": 22,
   "metadata": {},
   "outputs": [],
   "source": [
    "def simular(N, dt, num_passos, limites):\n",
    "    particulas = inicializar_particulas(N)\n",
    "    for _ in range(num_passos):\n",
    "        prever_posicoes(particulas, dt)\n",
    "        #calcular_forcas(particulas)\n",
    "        corrigir_velocidades(particulas, dt)\n",
    "        aplicar_condicoes_contorno(particulas, limites)"
   ]
  },
  {
   "cell_type": "code",
   "execution_count": 23,
   "metadata": {},
   "outputs": [],
   "source": [
    "#Parâmetros da simulação\n",
    "N = 100\n",
    "dt = 0.01\n",
    "num_passos = 1000\n",
    "limites = (0, 1)\n",
    "\n",
    "#Iniciar simulação\n",
    "simular(N, dt, num_passos, limites)"
   ]
  },
  {
   "cell_type": "code",
   "execution_count": null,
   "metadata": {},
   "outputs": [],
   "source": []
  }
 ],
 "metadata": {
  "kernelspec": {
   "display_name": "Python 3",
   "language": "python",
   "name": "python3"
  },
  "language_info": {
   "codemirror_mode": {
    "name": "ipython",
    "version": 3
   },
   "file_extension": ".py",
   "mimetype": "text/x-python",
   "name": "python",
   "nbconvert_exporter": "python",
   "pygments_lexer": "ipython3",
   "version": "3.12.2"
  }
 },
 "nbformat": 4,
 "nbformat_minor": 2
}
